{
 "cells": [
  {
   "cell_type": "code",
   "execution_count": 10,
   "metadata": {},
   "outputs": [],
   "source": [
    "import numpy as np\n",
    "import matplotlib.pyplot as plt\n",
    "from keras.preprocessing.image import ImageDataGenerator, load_img, img_to_array, array_to_img\n",
    "from keras.layers import Conv2D, Flatten, MaxPooling2D, Dense\n",
    "from keras.models import Sequential\n",
    "\n",
    "import glob, os, random"
   ]
  },
  {
   "cell_type": "code",
   "execution_count": 11,
   "metadata": {},
   "outputs": [
    {
     "name": "stdout",
     "output_type": "stream",
     "text": [
      "4964\n"
     ]
    }
   ],
   "source": [
    "\"\"\"==========\n",
    "   dataset 가져오기\n",
    "   ==========\"\"\"\n",
    "\n",
    "base_path = 'dataset/training'\n",
    "\n",
    "img_list = glob.glob(os.path.join(base_path, '*/*')) + glob.glob(os.path.join(base_path, '*/*/*'))\n",
    "\n",
    "print(len(img_list))"
   ]
  },
  {
   "cell_type": "code",
   "execution_count": 12,
   "metadata": {},
   "outputs": [
    {
     "name": "stdout",
     "output_type": "stream",
     "text": [
      "Found 4453 images belonging to 6 classes.\n",
      "Found 491 images belonging to 6 classes.\n",
      "{0: 'cardboard', 1: 'glass', 2: 'metal', 3: 'paper', 4: 'plastic', 5: 'trash'}\n"
     ]
    }
   ],
   "source": [
    "\"\"\"==========\n",
    "   train, test dataset 만들기\n",
    "   ==========\"\"\"\n",
    "\n",
    "train_datagen = ImageDataGenerator(\n",
    "    rescale=1./255,\n",
    "    shear_range=0.1,\n",
    "    zoom_range=0.1,\n",
    "    width_shift_range=0.1,\n",
    "    height_shift_range=0.1,\n",
    "    horizontal_flip=True,\n",
    "    vertical_flip=True,\n",
    "    validation_split=0.1\n",
    ")\n",
    "\"\"\"\n",
    "* ImageDataGenerator 인수 정리\n",
    "rotation_range: 이미지 회전 범위 (degrees)\n",
    "width_shift, height_shift: 그림을 수평 또는 수직으로 랜덤하게 평행 이동시키는 범위 (원본 가로, 세로 길이에 대한 비율 값)\n",
    "rescale: 원본 영상은 0-255의 RGB 계수로 구성되는데, 이 같은 입력값은 모델을 효과적으로 학습시키기에 너무 높습니다 (통상적인 learning rate를 사용할 경우). 그래서 이를 1/255로 스케일링하여 0-1 범위로 변환시켜줍니다. 이는 다른 전처리 과정에 앞서 가장 먼저 적용됩니다.\n",
    "shear_range: 임의 전단 변환 (shearing transformation) 범위\n",
    "zoom_range: 임의 확대/축소 범위\n",
    "horizontal_flip: True로 설정할 경우, 50% 확률로 이미지를 수평으로 뒤집습니다. 원본 이미지에 수평 비대칭성이 없을 때 효과적입니다. 즉, 뒤집어도 자연스러울 때 사용하면 좋습니다.\n",
    "fill_mode 이미지를 회전, 이동하거나 축소할 때 생기는 공간을 채우는 방식\n",
    "\"\"\"\n",
    "\n",
    "\n",
    "test_datagen = ImageDataGenerator(\n",
    "    rescale=1./255,\n",
    "    validation_split=0.1\n",
    ")\n",
    "\n",
    "# flow_from_directory() : 폴더 형테의 데이터 구조 가지고 옴\n",
    "train_generator = train_datagen.flow_from_directory(\n",
    "    base_path,\n",
    "    target_size=(300, 300),\n",
    "    batch_size=16,\n",
    "    class_mode='categorical',\n",
    "    subset='training',\n",
    "    seed=0\n",
    ")\n",
    "\n",
    "validation_generator = test_datagen.flow_from_directory(\n",
    "    base_path,\n",
    "    target_size=(300, 300),\n",
    "    batch_size=16,\n",
    "    class_mode='categorical',\n",
    "    subset='validation',\n",
    "    seed=0\n",
    ")\n",
    "\n",
    "labels = (train_generator.class_indices)\n",
    "labels = dict((v,k) for k,v in labels.items())\n",
    "\n",
    "print(labels)"
   ]
  },
  {
   "cell_type": "code",
   "execution_count": 13,
   "metadata": {},
   "outputs": [],
   "source": [
    "\"\"\"==========\n",
    "   모델 구성하기\n",
    "   ==========\"\"\"\n",
    "\n",
    "# CNN/ 케라스 컨볼루션 신경망 레이어(Conv2D)\n",
    "model = Sequential([\n",
    "    Conv2D(filters=32, kernel_size=3, padding='same', activation='relu', input_shape=(300, 300, 3)),\n",
    "    MaxPooling2D(pool_size=2),\n",
    "\n",
    "    Conv2D(filters=64, kernel_size=3, padding='same', activation='relu'),\n",
    "    MaxPooling2D(pool_size=2),\n",
    "    \n",
    "    Conv2D(filters=128, kernel_size=3, padding='same', activation='relu'),\n",
    "    MaxPooling2D(pool_size=2),\n",
    "    \n",
    "    Conv2D(filters=256, kernel_size=3, padding='same', activation='relu'),\n",
    "    MaxPooling2D(pool_size=2),\n",
    "    \n",
    "    Conv2D(filters=512, kernel_size=3, padding='same', activation='relu'),\n",
    "    MaxPooling2D(pool_size=2),\n",
    "\n",
    "    Flatten(),\n",
    "\n",
    "    Dense(64, activation='relu'),\n",
    "\n",
    "    Dense(6, activation='softmax')\n",
    "])"
   ]
  },
  {
   "cell_type": "code",
   "execution_count": 14,
   "metadata": {},
   "outputs": [
    {
     "name": "stdout",
     "output_type": "stream",
     "text": [
      "Model: \"sequential_2\"\n",
      "_________________________________________________________________\n",
      "Layer (type)                 Output Shape              Param #   \n",
      "=================================================================\n",
      "conv2d_6 (Conv2D)            (None, 300, 300, 32)      896       \n",
      "_________________________________________________________________\n",
      "max_pooling2d_6 (MaxPooling2 (None, 150, 150, 32)      0         \n",
      "_________________________________________________________________\n",
      "conv2d_7 (Conv2D)            (None, 150, 150, 64)      18496     \n",
      "_________________________________________________________________\n",
      "max_pooling2d_7 (MaxPooling2 (None, 75, 75, 64)        0         \n",
      "_________________________________________________________________\n",
      "conv2d_8 (Conv2D)            (None, 75, 75, 128)       73856     \n",
      "_________________________________________________________________\n",
      "max_pooling2d_8 (MaxPooling2 (None, 37, 37, 128)       0         \n",
      "_________________________________________________________________\n",
      "conv2d_9 (Conv2D)            (None, 37, 37, 256)       295168    \n",
      "_________________________________________________________________\n",
      "max_pooling2d_9 (MaxPooling2 (None, 18, 18, 256)       0         \n",
      "_________________________________________________________________\n",
      "conv2d_10 (Conv2D)           (None, 18, 18, 512)       1180160   \n",
      "_________________________________________________________________\n",
      "max_pooling2d_10 (MaxPooling (None, 9, 9, 512)         0         \n",
      "_________________________________________________________________\n",
      "flatten_2 (Flatten)          (None, 41472)             0         \n",
      "_________________________________________________________________\n",
      "dense_3 (Dense)              (None, 64)                2654272   \n",
      "_________________________________________________________________\n",
      "dense_4 (Dense)              (None, 6)                 390       \n",
      "=================================================================\n",
      "Total params: 4,223,238\n",
      "Trainable params: 4,223,238\n",
      "Non-trainable params: 0\n",
      "_________________________________________________________________\n"
     ]
    }
   ],
   "source": [
    "\"\"\"==========\n",
    "   모델 학습과정 설정하기\n",
    "   ==========\"\"\"\n",
    "\n",
    "model.compile(loss='categorical_crossentropy', optimizer='adam', metrics=['acc'])\n",
    "\n",
    "model.summary()"
   ]
  },
  {
   "cell_type": "code",
   "execution_count": 15,
   "metadata": {},
   "outputs": [
    {
     "name": "stdout",
     "output_type": "stream",
     "text": [
      "Epoch 1/5\n",
      "15/15 [==============================] - 133s 9s/step - loss: 1.7392 - acc: 0.2375 - val_loss: 1.6416 - val_acc: 0.2375\n",
      "Epoch 2/5\n",
      "15/15 [==============================] - 122s 8s/step - loss: 1.6179 - acc: 0.3625 - val_loss: 1.7065 - val_acc: 0.1500\n",
      "Epoch 3/5\n",
      "15/15 [==============================] - 139s 9s/step - loss: 1.4990 - acc: 0.3417 - val_loss: 1.8958 - val_acc: 0.3375\n",
      "Epoch 4/5\n",
      "15/15 [==============================] - 128s 9s/step - loss: 1.5855 - acc: 0.3000 - val_loss: 1.5346 - val_acc: 0.2625\n",
      "Epoch 5/5\n",
      "15/15 [==============================] - 110s 7s/step - loss: 1.5458 - acc: 0.3375 - val_loss: 1.5733 - val_acc: 0.2625\n"
     ]
    },
    {
     "data": {
      "text/plain": [
       "<keras.callbacks.callbacks.History at 0x1406edef0>"
      ]
     },
     "execution_count": 15,
     "metadata": {},
     "output_type": "execute_result"
    }
   ],
   "source": [
    "\"\"\"==========\n",
    "   모델 학습하기_1\n",
    "   ==========\"\"\"\n",
    "\n",
    "model.fit_generator(train_generator, steps_per_epoch=15, epochs=5, validation_data=validation_generator,validation_steps=5)"
   ]
  },
  {
   "cell_type": "code",
   "execution_count": 16,
   "metadata": {},
   "outputs": [
    {
     "name": "stdout",
     "output_type": "stream",
     "text": [
      "Epoch 1/80\n",
      "279/279 [==============================] - 1349s 5s/step - loss: 1.3786 - acc: 0.4184 - val_loss: 0.7408 - val_acc: 0.5071\n",
      "Epoch 2/80\n",
      "279/279 [==============================] - 1176s 4s/step - loss: 1.2156 - acc: 0.4864 - val_loss: 1.3445 - val_acc: 0.5092\n",
      "Epoch 3/80\n",
      "279/279 [==============================] - 1386s 5s/step - loss: 1.1386 - acc: 0.5239 - val_loss: 0.8309 - val_acc: 0.5234\n",
      "Epoch 4/80\n",
      "279/279 [==============================] - 1415s 5s/step - loss: 1.0739 - acc: 0.5549 - val_loss: 0.6498 - val_acc: 0.5112\n",
      "Epoch 5/80\n",
      "279/279 [==============================] - 1395s 5s/step - loss: 1.0345 - acc: 0.5956 - val_loss: 1.7436 - val_acc: 0.5764\n",
      "Epoch 6/80\n",
      "279/279 [==============================] - 1475s 5s/step - loss: 0.9732 - acc: 0.6196 - val_loss: 1.8975 - val_acc: 0.5336\n",
      "Epoch 7/80\n",
      "279/279 [==============================] - 1318s 5s/step - loss: 0.9224 - acc: 0.6420 - val_loss: 1.1283 - val_acc: 0.6130\n",
      "Epoch 8/80\n",
      "279/279 [==============================] - 1107s 4s/step - loss: 0.9104 - acc: 0.6542 - val_loss: 1.1419 - val_acc: 0.5967\n",
      "Epoch 9/80\n",
      "279/279 [==============================] - 1224s 4s/step - loss: 0.8762 - acc: 0.6631 - val_loss: 0.9444 - val_acc: 0.5764\n",
      "Epoch 10/80\n",
      "279/279 [==============================] - 1417s 5s/step - loss: 0.8298 - acc: 0.6883 - val_loss: 0.8743 - val_acc: 0.6497\n",
      "Epoch 11/80\n",
      "279/279 [==============================] - 1181s 4s/step - loss: 0.7746 - acc: 0.7067 - val_loss: 0.8749 - val_acc: 0.6212\n",
      "Epoch 12/80\n",
      "279/279 [==============================] - 1350s 5s/step - loss: 0.7546 - acc: 0.7074 - val_loss: 1.4891 - val_acc: 0.6578\n",
      "Epoch 13/80\n",
      "279/279 [==============================] - 1278s 5s/step - loss: 0.7312 - acc: 0.7240 - val_loss: 1.0204 - val_acc: 0.6334\n",
      "Epoch 14/80\n",
      "279/279 [==============================] - 1170s 4s/step - loss: 0.7053 - acc: 0.7424 - val_loss: 1.2500 - val_acc: 0.6375\n",
      "Epoch 15/80\n",
      "279/279 [==============================] - 1034s 4s/step - loss: 0.6721 - acc: 0.7512 - val_loss: 0.1438 - val_acc: 0.6619\n",
      "Epoch 16/80\n",
      "279/279 [==============================] - 1017s 4s/step - loss: 0.6667 - acc: 0.7460 - val_loss: 1.0270 - val_acc: 0.6843\n",
      "Epoch 17/80\n",
      "279/279 [==============================] - 1014s 4s/step - loss: 0.6406 - acc: 0.7570 - val_loss: 0.8418 - val_acc: 0.6415\n",
      "Epoch 18/80\n",
      "279/279 [==============================] - 1007s 4s/step - loss: 0.6172 - acc: 0.7687 - val_loss: 0.2928 - val_acc: 0.6640\n",
      "Epoch 19/80\n",
      "279/279 [==============================] - 1008s 4s/step - loss: 0.6112 - acc: 0.7757 - val_loss: 1.5609 - val_acc: 0.6538\n",
      "Epoch 20/80\n",
      "279/279 [==============================] - 1010s 4s/step - loss: 0.5975 - acc: 0.7828 - val_loss: 0.4245 - val_acc: 0.6599\n",
      "Epoch 21/80\n",
      "279/279 [==============================] - 1012s 4s/step - loss: 0.5751 - acc: 0.7873 - val_loss: 2.7157 - val_acc: 0.6375\n",
      "Epoch 22/80\n",
      "279/279 [==============================] - 1011s 4s/step - loss: 0.5431 - acc: 0.7988 - val_loss: 1.6980 - val_acc: 0.6843\n",
      "Epoch 23/80\n",
      "279/279 [==============================] - 1012s 4s/step - loss: 0.5198 - acc: 0.8051 - val_loss: 1.2346 - val_acc: 0.6538\n",
      "Epoch 24/80\n",
      "279/279 [==============================] - 1013s 4s/step - loss: 0.5084 - acc: 0.8111 - val_loss: 0.7557 - val_acc: 0.6273\n",
      "Epoch 25/80\n",
      "279/279 [==============================] - 1017s 4s/step - loss: 0.4956 - acc: 0.8154 - val_loss: 0.1358 - val_acc: 0.7210\n",
      "Epoch 26/80\n",
      "279/279 [==============================] - 1021s 4s/step - loss: 0.5032 - acc: 0.8141 - val_loss: 1.6690 - val_acc: 0.6904\n",
      "Epoch 27/80\n",
      "279/279 [==============================] - 1020s 4s/step - loss: 0.4784 - acc: 0.8217 - val_loss: 0.9590 - val_acc: 0.6762\n",
      "Epoch 28/80\n",
      "279/279 [==============================] - 1021s 4s/step - loss: 0.4514 - acc: 0.8361 - val_loss: 0.9851 - val_acc: 0.6823\n",
      "Epoch 29/80\n",
      "279/279 [==============================] - 1022s 4s/step - loss: 0.4607 - acc: 0.8296 - val_loss: 1.7605 - val_acc: 0.7088\n",
      "Epoch 30/80\n",
      "279/279 [==============================] - 1021s 4s/step - loss: 0.4478 - acc: 0.8313 - val_loss: 0.6669 - val_acc: 0.6904\n",
      "Epoch 31/80\n",
      "279/279 [==============================] - 1166s 4s/step - loss: 0.4273 - acc: 0.8374 - val_loss: 1.2191 - val_acc: 0.6191\n",
      "Epoch 32/80\n",
      "279/279 [==============================] - 1121s 4s/step - loss: 0.4091 - acc: 0.8437 - val_loss: 0.7095 - val_acc: 0.6395\n",
      "Epoch 33/80\n",
      "279/279 [==============================] - 1056s 4s/step - loss: 0.4127 - acc: 0.8466 - val_loss: 0.9293 - val_acc: 0.6599\n",
      "Epoch 34/80\n",
      "279/279 [==============================] - 1046s 4s/step - loss: 0.4035 - acc: 0.8527 - val_loss: 0.4189 - val_acc: 0.7108\n",
      "Epoch 35/80\n",
      "279/279 [==============================] - 1051s 4s/step - loss: 0.3869 - acc: 0.8567 - val_loss: 0.8872 - val_acc: 0.6965\n",
      "Epoch 36/80\n",
      "279/279 [==============================] - 1047s 4s/step - loss: 0.3884 - acc: 0.8554 - val_loss: 0.4321 - val_acc: 0.7026\n",
      "Epoch 37/80\n",
      "279/279 [==============================] - 1047s 4s/step - loss: 0.3840 - acc: 0.8590 - val_loss: 0.8483 - val_acc: 0.6802\n",
      "Epoch 38/80\n",
      "279/279 [==============================] - 1047s 4s/step - loss: 0.3685 - acc: 0.8736 - val_loss: 1.1976 - val_acc: 0.7291\n",
      "Epoch 39/80\n",
      "279/279 [==============================] - 1052s 4s/step - loss: 0.3569 - acc: 0.8745 - val_loss: 0.9493 - val_acc: 0.7108\n",
      "Epoch 40/80\n",
      "279/279 [==============================] - 1067s 4s/step - loss: 0.3488 - acc: 0.8680 - val_loss: 0.2388 - val_acc: 0.6945\n",
      "Epoch 41/80\n",
      "279/279 [==============================] - 1043s 4s/step - loss: 0.3466 - acc: 0.8684 - val_loss: 0.8438 - val_acc: 0.6965\n",
      "Epoch 42/80\n",
      "279/279 [==============================] - 1043s 4s/step - loss: 0.3502 - acc: 0.8758 - val_loss: 0.2043 - val_acc: 0.6945\n",
      "Epoch 43/80\n",
      "279/279 [==============================] - 1044s 4s/step - loss: 0.3183 - acc: 0.8834 - val_loss: 1.7953 - val_acc: 0.7576\n",
      "Epoch 44/80\n",
      "279/279 [==============================] - 1057s 4s/step - loss: 0.3135 - acc: 0.8852 - val_loss: 0.6610 - val_acc: 0.6986\n",
      "Epoch 45/80\n",
      "279/279 [==============================] - 1171s 4s/step - loss: 0.3208 - acc: 0.8792 - val_loss: 0.9067 - val_acc: 0.7495\n",
      "Epoch 46/80\n",
      "279/279 [==============================] - 1108s 4s/step - loss: 0.2959 - acc: 0.8915 - val_loss: 1.2231 - val_acc: 0.7067\n",
      "Epoch 47/80\n",
      "279/279 [==============================] - 1255s 4s/step - loss: 0.2927 - acc: 0.8918 - val_loss: 1.9201 - val_acc: 0.7230\n",
      "Epoch 48/80\n",
      "279/279 [==============================] - 1173s 4s/step - loss: 0.3010 - acc: 0.8875 - val_loss: 0.7709 - val_acc: 0.6843\n",
      "Epoch 49/80\n",
      "279/279 [==============================] - 1253s 4s/step - loss: 0.2906 - acc: 0.8976 - val_loss: 0.8524 - val_acc: 0.6762\n",
      "Epoch 50/80\n",
      "279/279 [==============================] - 1089s 4s/step - loss: 0.3010 - acc: 0.8902 - val_loss: 0.2684 - val_acc: 0.7189\n",
      "Epoch 51/80\n",
      "279/279 [==============================] - 994s 4s/step - loss: 0.2860 - acc: 0.9010 - val_loss: 2.0004 - val_acc: 0.7169\n",
      "Epoch 52/80\n",
      "279/279 [==============================] - 679s 2s/step - loss: 0.2513 - acc: 0.9099 - val_loss: 2.6685 - val_acc: 0.6680\n",
      "Epoch 53/80\n",
      "279/279 [==============================] - 693s 2s/step - loss: 0.2532 - acc: 0.9088 - val_loss: 1.3796 - val_acc: 0.7026\n",
      "Epoch 54/80\n",
      "279/279 [==============================] - 703s 3s/step - loss: 0.2756 - acc: 0.9021 - val_loss: 1.6579 - val_acc: 0.7149\n",
      "Epoch 55/80\n",
      "279/279 [==============================] - 799s 3s/step - loss: 0.2693 - acc: 0.9066 - val_loss: 1.3875 - val_acc: 0.7189\n",
      "Epoch 56/80\n",
      "279/279 [==============================] - 847s 3s/step - loss: 0.2699 - acc: 0.9032 - val_loss: 1.7918 - val_acc: 0.6823\n",
      "Epoch 57/80\n",
      "279/279 [==============================] - 792s 3s/step - loss: 0.2434 - acc: 0.9180 - val_loss: 2.9668 - val_acc: 0.6782\n",
      "Epoch 58/80\n",
      "279/279 [==============================] - 761s 3s/step - loss: 0.2631 - acc: 0.9050 - val_loss: 2.1495 - val_acc: 0.7413\n",
      "Epoch 59/80\n",
      "279/279 [==============================] - 667s 2s/step - loss: 0.2457 - acc: 0.9111 - val_loss: 0.3227 - val_acc: 0.6721\n",
      "Epoch 60/80\n",
      "279/279 [==============================] - 718s 3s/step - loss: 0.2540 - acc: 0.9070 - val_loss: 1.4454 - val_acc: 0.7271\n",
      "Epoch 61/80\n",
      "279/279 [==============================] - 701s 3s/step - loss: 0.2435 - acc: 0.9099 - val_loss: 0.3257 - val_acc: 0.7271\n"
     ]
    },
    {
     "name": "stdout",
     "output_type": "stream",
     "text": [
      "Epoch 62/80\n",
      "279/279 [==============================] - 735s 3s/step - loss: 0.2349 - acc: 0.9158 - val_loss: 0.5787 - val_acc: 0.7210\n",
      "Epoch 63/80\n",
      "279/279 [==============================] - 602s 2s/step - loss: 0.2491 - acc: 0.9129 - val_loss: 1.4389 - val_acc: 0.7047\n",
      "Epoch 64/80\n",
      "279/279 [==============================] - 569s 2s/step - loss: 0.2259 - acc: 0.9205 - val_loss: 0.6627 - val_acc: 0.7210\n",
      "Epoch 65/80\n",
      "279/279 [==============================] - 541s 2s/step - loss: 0.2145 - acc: 0.9205 - val_loss: 0.2832 - val_acc: 0.7393\n",
      "Epoch 66/80\n",
      "279/279 [==============================] - 543s 2s/step - loss: 0.2263 - acc: 0.9259 - val_loss: 1.2433 - val_acc: 0.7413\n",
      "Epoch 67/80\n",
      "279/279 [==============================] - 565s 2s/step - loss: 0.2186 - acc: 0.9239 - val_loss: 1.7715 - val_acc: 0.6904\n",
      "Epoch 68/80\n",
      "279/279 [==============================] - 608s 2s/step - loss: 0.2327 - acc: 0.9160 - val_loss: 0.9362 - val_acc: 0.7026\n",
      "Epoch 69/80\n",
      "279/279 [==============================] - 612s 2s/step - loss: 0.2186 - acc: 0.9219 - val_loss: 2.2435 - val_acc: 0.7108\n",
      "Epoch 70/80\n",
      "279/279 [==============================] - 654s 2s/step - loss: 0.2032 - acc: 0.9214 - val_loss: 0.8622 - val_acc: 0.7393\n",
      "Epoch 71/80\n",
      "279/279 [==============================] - 707s 3s/step - loss: 0.2095 - acc: 0.9257 - val_loss: 0.8632 - val_acc: 0.7678\n",
      "Epoch 72/80\n",
      "279/279 [==============================] - 611s 2s/step - loss: 0.2229 - acc: 0.9270 - val_loss: 1.5304 - val_acc: 0.7393\n",
      "Epoch 73/80\n",
      "279/279 [==============================] - 656s 2s/step - loss: 0.1916 - acc: 0.9369 - val_loss: 1.2850 - val_acc: 0.6925\n",
      "Epoch 74/80\n",
      "279/279 [==============================] - 823s 3s/step - loss: 0.1751 - acc: 0.9347 - val_loss: 0.9616 - val_acc: 0.7373\n",
      "Epoch 75/80\n",
      "279/279 [==============================] - 791s 3s/step - loss: 0.2019 - acc: 0.9250 - val_loss: 0.4173 - val_acc: 0.7088\n",
      "Epoch 76/80\n",
      "279/279 [==============================] - 597s 2s/step - loss: 0.2221 - acc: 0.9219 - val_loss: 1.5475 - val_acc: 0.7475\n",
      "Epoch 77/80\n",
      "279/279 [==============================] - 544s 2s/step - loss: 0.2067 - acc: 0.9270 - val_loss: 1.0395 - val_acc: 0.7108\n",
      "Epoch 78/80\n",
      "279/279 [==============================] - 568s 2s/step - loss: 0.1877 - acc: 0.9329 - val_loss: 0.6973 - val_acc: 0.6965\n",
      "Epoch 79/80\n",
      "279/279 [==============================] - 635s 2s/step - loss: 0.1892 - acc: 0.9362 - val_loss: 2.0334 - val_acc: 0.7128\n",
      "Epoch 80/80\n",
      "279/279 [==============================] - 730s 3s/step - loss: 0.2002 - acc: 0.9324 - val_loss: 3.3342 - val_acc: 0.7169\n"
     ]
    }
   ],
   "source": [
    "\"\"\"==========\n",
    "   모델 학습하기_2\n",
    "   ==========\"\"\"\n",
    "hist = model.fit_generator(train_generator, epochs=80, validation_data=validation_generator)"
   ]
  },
  {
   "cell_type": "code",
   "execution_count": 17,
   "metadata": {},
   "outputs": [
    {
     "name": "stdout",
     "output_type": "stream",
     "text": [
      "-- Evaluate --\n",
      "acc: 75.00%\n"
     ]
    }
   ],
   "source": [
    "\"\"\"==========\n",
    "   모델 평가하기\n",
    "   ==========\"\"\"\n",
    "\n",
    "print(\"-- Evaluate --\")\n",
    "scores = model.evaluate_generator(validation_generator, steps=5)\n",
    "print(\"%s: %.2f%%\" %(model.metrics_names[1], scores[1]*100))"
   ]
  },
  {
   "cell_type": "code",
   "execution_count": 18,
   "metadata": {},
   "outputs": [
    {
     "data": {
      "image/png": "[encoded data removed]",
      "text/plain": [
       "<Figure size 432x288 with 2 Axes>"
      ]
     },
     "metadata": {
      "needs_background": "light"
     },
     "output_type": "display_data"
    }
   ],
   "source": [
    "# 모델 학습 그래프 확인\n",
    "%matplotlib inline\n",
    "import matplotlib.pyplot as plt\n",
    "\n",
    "fig, loss_ax = plt.subplots()\n",
    "\n",
    "acc_ax = loss_ax.twinx()\n",
    "\n",
    "loss_ax.plot(hist.history['loss'], 'y', label='train loss')\n",
    "loss_ax.plot(hist.history['val_loss'], 'r', label='val loss')\n",
    "\n",
    "acc_ax.plot(hist.history['acc'], 'b', label='train acc')\n",
    "acc_ax.plot(hist.history['val_acc'], 'g', label='val acc')\n",
    "\n",
    "loss_ax.set_xlabel('epoch')\n",
    "loss_ax.set_ylabel('loss')\n",
    "acc_ax.set_ylabel('accuray')\n",
    "\n",
    "loss_ax.legend(loc='upper left')\n",
    "acc_ax.legend(loc='lower left')\n",
    "\n",
    "plt.show()"
   ]
  },
  {
   "cell_type": "code",
   "execution_count": 19,
   "metadata": {},
   "outputs": [],
   "source": [
    "# 모델 저장\n",
    "model_json = model.to_json()\n",
    "with open(\"model/model.json\", \"w\") as json_file : \n",
    "    json_file.write(model_json)\n",
    "\n",
    "# 모델 weight 저장\n",
    "keras_file=\"weight/garbage.h5\"\n",
    "model.save(keras_file)"
   ]
  },
  {
   "cell_type": "code",
   "execution_count": null,
   "metadata": {},
   "outputs": [],
   "source": []
  }
 ],
 "metadata": {
  "kernelspec": {
   "display_name": "Python 3",
   "language": "python",
   "name": "python3"
  },
  "language_info": {
   "codemirror_mode": {
    "name": "ipython",
    "version": 3
   },
   "file_extension": ".py",
   "mimetype": "text/x-python",
   "name": "python",
   "nbconvert_exporter": "python",
   "pygments_lexer": "ipython3",
   "version": "3.6.7"
  }
 },
 "nbformat": 4,
 "nbformat_minor": 4
}
