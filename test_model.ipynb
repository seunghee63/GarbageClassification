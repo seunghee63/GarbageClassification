{
 "cells": [
  {
   "cell_type": "code",
   "execution_count": 47,
   "metadata": {},
   "outputs": [],
   "source": [
    "import os\n",
    "\n",
    "import keras\n",
    "import tensorflow as tf\n",
    "from tensorflow import lite\n",
    "from tensorflow.keras.optimizers import RMSprop\n",
    "from keras.preprocessing import image\n",
    "import matplotlib.pyplot as plt\n",
    "import numpy as np"
   ]
  },
  {
   "cell_type": "code",
   "execution_count": 48,
   "metadata": {},
   "outputs": [],
   "source": [
    "# 저장된 JSON 파일로 부터 모델 로드하기\n",
    "json_file = open(\"model/model.json\", \"r\") \n",
    "loaded_model_json = json_file.read() \n",
    "json_file.close() \n",
    "loaded_model = tf.keras.models.model_from_json(loaded_model_json)\n",
    "\n",
    "# 로드한 모델에 Weight 로드하기\n",
    "keras_file=\"weight/garbage.h5\"\n",
    "loaded_model.load_weights (keras_file)\n",
    "\n",
    "# 로드한 모델 컴파일\n",
    "loaded_model.compile(loss = \"categorical_crossentropy\", optimizer = RMSprop(lr=0.001), metrics = ['accuracy'])\n",
    "    \n",
    "img=image.load_img(\"test_img.jpg\",target_size=(300,300))\n",
    "x=image.img_to_array(img)\n",
    "x=np.expand_dims(x, axis=0)\n",
    "images = np.vstack([x])\n",
    "\n",
    "# 예측\n",
    "sonuc = loaded_model.predict(images, batch_size=10)\n",
    "a=np.argmax(sonuc)"
   ]
  },
  {
   "cell_type": "code",
   "execution_count": 49,
   "metadata": {},
   "outputs": [
    {
     "name": "stdout",
     "output_type": "stream",
     "text": [
      "[[0.         0.         0.9542014  0.04579861 0.         0.        ]]\n",
      "metal\n"
     ]
    }
   ],
   "source": [
    "img=image.load_img(\"test_img.jpg\",target_size=(300,300))\n",
    "x=image.img_to_array(img)\n",
    "x=np.expand_dims(x, axis=0)\n",
    "images = np.vstack([x])\n",
    "    \n",
    "preds = loaded_model.predict(images)\n",
    "print(preds)\n",
    "\n",
    "if a==0:\n",
    "    print(\"cardboard\")\n",
    "if a==1:\n",
    "    print(\"glass\")\n",
    "if a==2:\n",
    "    print(\"metal\")\n",
    "if a==3:\n",
    "    print(\"paper\")\n",
    "if a==4:\n",
    "    print(\"plastic\")\n",
    "if a==5:\n",
    "    print(\"trash\")"
   ]
  },
  {
   "cell_type": "code",
   "execution_count": null,
   "metadata": {},
   "outputs": [],
   "source": []
  }
 ],
 "metadata": {
  "kernelspec": {
   "display_name": "Python 3",
   "language": "python",
   "name": "python3"
  },
  "language_info": {
   "codemirror_mode": {
    "name": "ipython",
    "version": 3
   },
   "file_extension": ".py",
   "mimetype": "text/x-python",
   "name": "python",
   "nbconvert_exporter": "python",
   "pygments_lexer": "ipython3",
   "version": "3.6.7"
  }
 },
 "nbformat": 4,
 "nbformat_minor": 4
}
